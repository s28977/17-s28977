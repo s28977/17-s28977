{
  "nbformat": 4,
  "nbformat_minor": 0,
  "metadata": {
    "colab": {
      "provenance": []
    },
    "kernelspec": {
      "name": "python3",
      "display_name": "Python 3"
    },
    "language_info": {
      "name": "python"
    }
  },
  "cells": [
    {
      "cell_type": "markdown",
      "source": [
        "1. Write a Python program that prompts the user for their name and then prints a personalized greeting message."
      ],
      "metadata": {
        "id": "wUqKh_OxyyRC"
      }
    },
    {
      "cell_type": "code",
      "execution_count": null,
      "metadata": {
        "colab": {
          "base_uri": "https://localhost:8080/"
        },
        "id": "1gf1tXXmkJRP",
        "outputId": "ad461b29-560e-44fb-e307-6869ef3350c4"
      },
      "outputs": [
        {
          "output_type": "stream",
          "name": "stdout",
          "text": [
            "Enter your name: Piotr\n",
            "Hello, Piotr!\n"
          ]
        }
      ],
      "source": [
        "# Prompt the user to enter their name\n",
        "name = input(\"Enter your name: \")\n",
        "\n",
        "# Print a personalized greeting message\n",
        "print(\"Hello,\", name + \"!\")"
      ]
    },
    {
      "cell_type": "markdown",
      "source": [
        "Exercise 1. <br />\n",
        "Ask 3 questions about the name, surname and age, and at the end create a sentence with this information."
      ],
      "metadata": {
        "id": "Af1ps5Po0yfO"
      }
    },
    {
      "cell_type": "code",
      "source": [
        "# Prompt the user to enter their name, surname and age\n",
        "name = input(\"Enter your name: \")\n",
        "surname = input(\"Enter your surname: \")\n",
        "age = input(\"Enter your age: \")\n",
        "\n",
        "# Print a personalized greeting message\n",
        "print(\"Hello,\", name, surname, \"(\" + age + \")\")"
      ],
      "metadata": {
        "id": "7lAKirmY1v3R",
        "colab": {
          "base_uri": "https://localhost:8080/"
        },
        "outputId": "4eb1f511-6cab-4b32-c371-29c82ff7c1b0"
      },
      "execution_count": 2,
      "outputs": [
        {
          "output_type": "stream",
          "name": "stdout",
          "text": [
            "Enter your name: Jan\n",
            "Enter your surname: Musiał\n",
            "Enter your age: 24\n",
            "Hello, Jan Musiał (24)\n"
          ]
        }
      ]
    },
    {
      "cell_type": "markdown",
      "source": [
        "2. Write a Python program that converts temperature from Celsius to Fahrenheit."
      ],
      "metadata": {
        "id": "cvmWnstxzBZM"
      }
    },
    {
      "cell_type": "code",
      "source": [
        "celsius = float(input(\"Enter temperature in Celsius: \"))\n",
        "\n",
        "# Convert Celsius to Fahrenheit\n",
        "fahrenheit = (celsius * 9/5) + 32\n",
        "\n",
        "# Print the converted temperature\n",
        "print(\"Temperature in Fahrenheit:\", fahrenheit)"
      ],
      "metadata": {
        "colab": {
          "base_uri": "https://localhost:8080/"
        },
        "id": "Ar2avvtTy9U6",
        "outputId": "2eec67e8-f90a-4414-c4ba-1ca1195f4dee"
      },
      "execution_count": null,
      "outputs": [
        {
          "output_type": "stream",
          "name": "stdout",
          "text": [
            "Enter temperature in Celsius: 36\n",
            "Temperature in Fahrenheit: 96.8\n"
          ]
        }
      ]
    },
    {
      "cell_type": "markdown",
      "source": [],
      "metadata": {
        "id": "baoVb0Gl1YVg"
      }
    },
    {
      "cell_type": "markdown",
      "source": [
        "Exercise 2. <br />\n",
        "Reverse to change Fahrenheit to Celsius."
      ],
      "metadata": {
        "id": "Drjb9R-A1Y65"
      }
    },
    {
      "cell_type": "code",
      "source": [
        "fahrenheit = float(input(\"Enter temperature in Fahrenheit: \"))\n",
        "\n",
        "# Convert Fahrenheit to Celsius\n",
        "celsius = (fahrenheit - 32) * 5/9\n",
        "\n",
        "# Print the converted temperature\n",
        "print(\"Temperature in Celsius:\", celsius)"
      ],
      "metadata": {
        "id": "u88sNDx81wur",
        "colab": {
          "base_uri": "https://localhost:8080/"
        },
        "outputId": "ed8b73ae-0050-4e10-9bf1-8530b089be5c"
      },
      "execution_count": 4,
      "outputs": [
        {
          "output_type": "stream",
          "name": "stdout",
          "text": [
            "Enter temperature in Fahrenheit: 96.8\n",
            "Temperature in Celsius: 36.0\n"
          ]
        }
      ]
    },
    {
      "cell_type": "markdown",
      "source": [
        "3. Write a Python program that calculates the grade based on the student's score."
      ],
      "metadata": {
        "id": "s8oRVOdSzZTc"
      }
    },
    {
      "cell_type": "code",
      "source": [
        "# Define variable\n",
        "score = float(input(\"Enter your score: \"))\n",
        "\n",
        "# Determine the grade\n",
        "if score >= 90:\n",
        "    grade = \"A\"\n",
        "elif score >= 80:\n",
        "    grade = \"B\"\n",
        "elif score >= 70:\n",
        "    grade = \"C\"\n",
        "elif score >= 60:\n",
        "    grade = \"D\"\n",
        "else:\n",
        "    grade = \"F\"\n",
        "\n",
        "# Print the grade\n",
        "print(\"Your grade is:\", grade)"
      ],
      "metadata": {
        "colab": {
          "base_uri": "https://localhost:8080/"
        },
        "id": "O3o2BJ1Wzaph",
        "outputId": "4eedff19-31a3-486c-e358-98ed9fa70d1d"
      },
      "execution_count": null,
      "outputs": [
        {
          "output_type": "stream",
          "name": "stdout",
          "text": [
            "Enter your score: 96\n",
            "Your grade is: A\n"
          ]
        }
      ]
    },
    {
      "cell_type": "markdown",
      "source": [
        "Exercise 3. <br />\n",
        "Convert to the Polish grading system and add the grade to consist of 3 elements: work in class (20% of the grade), test (30% of the grade) project (50% of the grade)"
      ],
      "metadata": {
        "id": "n2WUkjpZ3tLG"
      }
    },
    {
      "cell_type": "code",
      "source": [
        "# Define variables\n",
        "work = float(input(\"Enter your work score: \"))\n",
        "test = float(input(\"Enter your test score: \"))\n",
        "project = float(input(\"Enter your project score: \"))\n",
        "\n",
        "# Calculate score\n",
        "score = 0.2*work + 0.3*test + 0.5*project\n",
        "\n",
        "# Determine the grade\n",
        "if score >= 90:\n",
        "    grade = 5\n",
        "elif score >= 80:\n",
        "    grade = 4\n",
        "elif score >= 70:\n",
        "    grade = 3\n",
        "elif score >= 60:\n",
        "    grade = 2\n",
        "else:\n",
        "    grade = 1\n",
        "\n",
        "# Print the grade\n",
        "print(\"Your grade is:\", grade)"
      ],
      "metadata": {
        "id": "Ba5RCxxO3sfk",
        "colab": {
          "base_uri": "https://localhost:8080/"
        },
        "outputId": "2c2d3a27-876f-4f94-d98a-9f4f5b53beed"
      },
      "execution_count": 6,
      "outputs": [
        {
          "output_type": "stream",
          "name": "stdout",
          "text": [
            "Enter your work score: 90\n",
            "Enter your test score: 95\n",
            "Enter your project score: 89\n",
            "Your grade is: 5\n"
          ]
        }
      ]
    },
    {
      "cell_type": "markdown",
      "source": [
        "4. Write a Python program that checks if a number is even or odd."
      ],
      "metadata": {
        "id": "pAgmiQGGzeOf"
      }
    },
    {
      "cell_type": "code",
      "source": [
        "# Define variable\n",
        "number = int(input(\"Enter a number: \"))\n",
        "\n",
        "# Check if the number is even or odd\n",
        "if number % 2 == 0:\n",
        "    result = \"Even\"\n",
        "else:\n",
        "    result = \"Odd\"\n",
        "\n",
        "# Print the result\n",
        "print(\"The number is:\", result)"
      ],
      "metadata": {
        "colab": {
          "base_uri": "https://localhost:8080/"
        },
        "id": "qT6u1T4WzjlN",
        "outputId": "7b966f93-310a-46f6-b98e-4ff1a7aadc7b"
      },
      "execution_count": null,
      "outputs": [
        {
          "output_type": "stream",
          "name": "stdout",
          "text": [
            "Enter a number: 65\n",
            "The number is: Odd\n"
          ]
        }
      ]
    },
    {
      "cell_type": "markdown",
      "source": [
        "Exercise 4. <br />\n",
        "Change the code so that there are two inputs and the first number is separated by the second."
      ],
      "metadata": {
        "id": "wbEXTLQ64TDW"
      }
    },
    {
      "cell_type": "code",
      "source": [
        "# Define variables\n",
        "a = int(input(\"Enter the first number: \"))\n",
        "b = int(input(\"Enter the second number: \"))\n",
        "\n",
        "# Check if the a is divisible by b\n",
        "if a % b == 0:\n",
        "    result = \"divisible\"\n",
        "else:\n",
        "    result = \"not divisible\"\n",
        "\n",
        "# Print the result\n",
        "print(a, \"is\", result, \"by\", b)"
      ],
      "metadata": {
        "id": "UbB5Q2D54puN",
        "colab": {
          "base_uri": "https://localhost:8080/"
        },
        "outputId": "51614ec4-8ad5-40c2-b0dc-3c49d455dcac"
      },
      "execution_count": 11,
      "outputs": [
        {
          "output_type": "stream",
          "name": "stdout",
          "text": [
            "Enter the first number: 9\n",
            "Enter the second number: 4\n",
            "9 is not divisible by 4\n"
          ]
        }
      ]
    },
    {
      "cell_type": "markdown",
      "source": [
        "5. Variable types"
      ],
      "metadata": {
        "id": "ub6WUpw_61yT"
      }
    },
    {
      "cell_type": "code",
      "source": [
        "# Prompt the user to enter values of different types\n",
        "var_int = int(input(\"Enter an integer value: \"))\n",
        "var_float = float(input(\"Enter a float value: \"))\n",
        "var_str = input(\"Enter a string value: \")\n",
        "var_bool = input(\"Enter a boolean value (True or False): \").lower() == \"true\"\n",
        "\n",
        "# Determine the type of each variable\n",
        "type_int = type(var_int).__name__\n",
        "type_float = type(var_float).__name__\n",
        "type_str = type(var_str).__name__\n",
        "type_bool = type(var_bool).__name__\n",
        "\n",
        "# Print the type of each variable\n",
        "print(\"Type of var_int:\", type_int)\n",
        "print(\"Type of var_float:\", type_float)\n",
        "print(\"Type of var_str:\", type_str)\n",
        "print(\"Type of var_bool:\", type_bool)"
      ],
      "metadata": {
        "id": "nWIyQteq60NQ",
        "colab": {
          "base_uri": "https://localhost:8080/"
        },
        "outputId": "c5a0103c-e6db-4757-d1fa-78cc66aed76d"
      },
      "execution_count": 12,
      "outputs": [
        {
          "output_type": "stream",
          "name": "stdout",
          "text": [
            "Enter an integer value: 6\n",
            "Enter a float value: 10.6\n",
            "Enter a string value: My string\n",
            "Enter a boolean value (True or False): true\n",
            "Type of var_int: int\n",
            "Type of var_float: float\n",
            "Type of var_str: str\n",
            "Type of var_bool: bool\n"
          ]
        }
      ]
    },
    {
      "cell_type": "markdown",
      "source": [
        "6. Write a Python program that determines the type of triangle based on the lengths of its sides."
      ],
      "metadata": {
        "id": "mNbPiSw9zqz9"
      }
    },
    {
      "cell_type": "code",
      "source": [
        "# Define variables\n",
        "side1 = float(input(\"Enter the length of side 1: \"))\n",
        "side2 = float(input(\"Enter the length of side 2: \"))\n",
        "side3 = float(input(\"Enter the length of side 3: \"))\n",
        "\n",
        "# Check the type of triangle\n",
        "if side1 == side2 == side3:\n",
        "    triangle_type = \"Equilateral\"\n",
        "elif side1 == side2 or side1 == side3 or side2 == side3:\n",
        "    triangle_type = \"Isosceles\"\n",
        "else:\n",
        "    triangle_type = \"Scalene\"\n",
        "\n",
        "# Print the type of triangle\n",
        "print(\"The triangle is:\", triangle_type)"
      ],
      "metadata": {
        "colab": {
          "base_uri": "https://localhost:8080/"
        },
        "id": "qWQb0JYdz7MC",
        "outputId": "0cd5b901-65d3-4b33-d75a-3ea207784d74"
      },
      "execution_count": null,
      "outputs": [
        {
          "output_type": "stream",
          "name": "stdout",
          "text": [
            "Enter the length of side 1: 2\n",
            "Enter the length of side 2: 3\n",
            "Enter the length of side 3: 4\n",
            "The triangle is: Scalene\n"
          ]
        }
      ]
    },
    {
      "cell_type": "markdown",
      "source": [
        "Exercise 6. <br />\n",
        "Add a check to see if a triangle can be drawn with the given sides."
      ],
      "metadata": {
        "id": "qmK-Sy0q4qYQ"
      }
    },
    {
      "cell_type": "code",
      "source": [
        "# Define variables\n",
        "side1 = float(input(\"Enter the length of side 1: \"))\n",
        "side2 = float(input(\"Enter the length of side 2: \"))\n",
        "side3 = float(input(\"Enter the length of side 3: \"))\n",
        "\n",
        "# Check if triangle can be drawn\n",
        "if side1 + side2 > side3 and side1 + side3 > side2 and side3 + side2 > side1:\n",
        "    # Check the type of triangle\n",
        "    if side1 == side2 == side3:\n",
        "        triangle_type = \"Equilateral\"\n",
        "    elif side1 == side2 or side1 == side3 or side2 == side3:\n",
        "        triangle_type = \"Isosceles\"\n",
        "    else:\n",
        "        triangle_type = \"Scalene\"\n",
        "\n",
        "    # Print the type of triangle\n",
        "    print(\"The triangle is:\", triangle_type)\n",
        "else:\n",
        "    print(\"Triangle of given sides cannot be drawn3\")"
      ],
      "metadata": {
        "id": "QVeabA3I4mWj",
        "colab": {
          "base_uri": "https://localhost:8080/"
        },
        "outputId": "141a484f-3cba-4388-cd1c-f512238676cf"
      },
      "execution_count": 15,
      "outputs": [
        {
          "output_type": "stream",
          "name": "stdout",
          "text": [
            "Enter the length of side 1: 5\n",
            "Enter the length of side 2: 2\n",
            "Enter the length of side 3: 5\n",
            "The triangle is: Isosceles\n"
          ]
        }
      ]
    },
    {
      "cell_type": "markdown",
      "source": [
        "7. Write a Python program that performs arithmetic operations on two numbers."
      ],
      "metadata": {
        "id": "e_-D4ErK0Ac6"
      }
    },
    {
      "cell_type": "code",
      "source": [
        "# Define variables\n",
        "num1 = float(input(\"Enter the first number: \"))\n",
        "num2 = float(input(\"Enter the second number: \"))\n",
        "operation = input(\"Enter the operation (+, -, *, /): \")\n",
        "\n",
        "# Perform the operation\n",
        "if operation == \"+\":\n",
        "    result = num1 + num2\n",
        "elif operation == \"-\":\n",
        "    result = num1 - num2\n",
        "elif operation == \"*\":\n",
        "    result = num1 * num2\n",
        "elif operation == \"/\":\n",
        "    result = num1 / num2\n",
        "else:\n",
        "    result = \"Invalid operation\"\n",
        "\n",
        "# Print the result\n",
        "print(\"Result:\", result)"
      ],
      "metadata": {
        "colab": {
          "base_uri": "https://localhost:8080/"
        },
        "id": "NorGpqQu0JuF",
        "outputId": "29d37b48-ea2a-439f-be38-78232b84c672"
      },
      "execution_count": null,
      "outputs": [
        {
          "output_type": "stream",
          "name": "stdout",
          "text": [
            "Enter the first number: 6\n",
            "Enter the second number: 8\n",
            "Enter the operation (+, -, *, /): -\n",
            "Result: -2.0\n"
          ]
        }
      ]
    },
    {
      "cell_type": "markdown",
      "source": [
        "Exercise 7. <br />\n",
        "Add a check to see if someone is trying to divide by zero, if so, give an appropriate message"
      ],
      "metadata": {
        "id": "7oqPwKMn5UNz"
      }
    },
    {
      "cell_type": "code",
      "source": [
        "# Define variables\n",
        "num1 = float(input(\"Enter the first number: \"))\n",
        "num2 = float(input(\"Enter the second number: \"))\n",
        "operation = input(\"Enter the operation (+, -, *, /): \")\n",
        "\n",
        "# Perform the operation\n",
        "if operation == \"+\":\n",
        "    result = num1 + num2\n",
        "elif operation == \"-\":\n",
        "    result = num1 - num2\n",
        "elif operation == \"*\":\n",
        "    result = num1 * num2\n",
        "elif operation == \"/\":\n",
        "    if num2 == 0:\n",
        "        result = \"Division by 0\"\n",
        "    else:\n",
        "        result = num1 / num2\n",
        "else:\n",
        "    result = \"Invalid operation\"\n",
        "\n",
        "# Print the result\n",
        "print(\"Result:\", result)"
      ],
      "metadata": {
        "id": "tu9yF-qx5kQX",
        "colab": {
          "base_uri": "https://localhost:8080/"
        },
        "outputId": "f21d4933-f2d5-470a-d90d-036c9b713b50"
      },
      "execution_count": 17,
      "outputs": [
        {
          "output_type": "stream",
          "name": "stdout",
          "text": [
            "Enter the first number: 7\n",
            "Enter the second number: 0.0\n",
            "Enter the operation (+, -, *, /): /\n",
            "Result: Division by 0\n"
          ]
        }
      ]
    },
    {
      "cell_type": "markdown",
      "source": [
        "Exercise 7. <br />\n",
        "Make a script out of it and put it on githyb"
      ],
      "metadata": {
        "id": "f1FWjRt8w1rh"
      }
    },
    {
      "cell_type": "code",
      "source": [],
      "metadata": {
        "id": "Jh6eWcZQw3WJ"
      },
      "execution_count": null,
      "outputs": []
    }
  ]
}